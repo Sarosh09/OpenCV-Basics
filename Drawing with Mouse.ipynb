{
 "cells": [
  {
   "cell_type": "code",
   "execution_count": 2,
   "metadata": {},
   "outputs": [],
   "source": [
    "# Import Libraries\n",
    "import cv2\n",
    "import numpy as np\n",
    "\n",
    "# Function\n",
    "# x, y, flags, params are fed from OpenCV automatically\n",
    "def draw_circle(event, x, y, flags, param):\n",
    "    if event == cv2.EVENT_LBUTTONDOWN:\n",
    "        cv2.circle(img,\n",
    "                   (x, y),\n",
    "                  70,\n",
    "                  (35, 69, 78),\n",
    "                  -1)\n",
    "\n",
    "# Connect the function with the callback\n",
    "cv2.namedWindow(winname = 'my_drawing')\n",
    "\n",
    "# Callback\n",
    "cv2.setMouseCallback('my_drawing', draw_circle)\n",
    "\n",
    "# Using OpenCV to show the Image\n",
    "img = np.zeros((512, 512, 3),\n",
    "              np.int8)\n",
    "\n",
    "while True:\n",
    "    cv2.imshow('my_drawing', img)\n",
    "    \n",
    "    if cv2.waitKey(5) & 0xFF == 27:\n",
    "        break\n",
    "\n",
    "cv2.destroyAllWindows()\n",
    "\n"
   ]
  }
 ],
 "metadata": {
  "kernelspec": {
   "display_name": "Python 3",
   "language": "python",
   "name": "python3"
  },
  "language_info": {
   "codemirror_mode": {
    "name": "ipython",
    "version": 3
   },
   "file_extension": ".py",
   "mimetype": "text/x-python",
   "name": "python",
   "nbconvert_exporter": "python",
   "pygments_lexer": "ipython3",
   "version": "3.7.6"
  }
 },
 "nbformat": 4,
 "nbformat_minor": 4
}
